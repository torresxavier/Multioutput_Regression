{
 "cells": [
  {
   "cell_type": "markdown",
   "metadata": {},
   "source": [
    "## Example of Multioutput Regression & Regressor Chains\n",
    "\n",
    "*@XavierTorres*\n",
    "\n",
    "In this example we are trying to predict 2 continuous variables with 4 input features. Here we are not doing data cleaning, neither EDA, feature engineering nor fine-tuning model features. It's only a preliminary model overview.\n",
    "\n",
    "- Inputs: \n",
    "    - Land_sqf\n",
    "    - Gross_sqf\n",
    "    - Year_built\n",
    "    - NBH_level\t(Neighborhood level: 10= most upper class; 1: most lower class)\n",
    "    \n",
    "- Outputs: \n",
    "    - SALE_PRICE \t\n",
    "    - YEARLY_RENT\n",
    "\n",
    "We are going to try different approaches to predict each output (possible SALE_PRICE and possible YEARLY_RENT for a new property). The approaches are: \n",
    "\n",
    "1. Use the **multioutput regression**. Doesn't take into account possible relationship between outputs. Precits outputs individually. Learner: `GradientBoostingRegressorGradientBoostingRegressor`.\n",
    "1. Use the **multioutput regression**. Doesn't take into account possible relationship between outputs. Precits outputs individually. Learner: `LinearRegression`.\n",
    "1. Use the **regression chain** in order to exploit correlations among targets. Learner: `LinearRegression`.\n",
    "\n",
    "> **Regressor Chain**: a way of combining a number of regressions into a single multi-target model that is capable of exploiting correlations among targets.\n",
    "\n",
    "> Some more info regarding to this in scikit library https://scikit-learn.org/stable/modules/multiclass.html:\n",
    ">- 1.12.5 Multioutput regression: fits one regressor per target but does not take into account correlations among targets.\n",
    ">- 1.12.8. Regressor Chain: a way of combining a number of regressions into a single multi-target model that is capable of exploiting correlations among targets."
   ]
  },
  {
   "cell_type": "code",
   "execution_count": 1,
   "metadata": {},
   "outputs": [],
   "source": [
    "import matplotlib.pyplot as plt\n",
    "import numpy as np\n",
    "import pandas as pd\n",
    "from sklearn import datasets, linear_model\n",
    "from sklearn.metrics import mean_squared_error, r2_score\n",
    "from sklearn.model_selection import train_test_split\n",
    "\n",
    "\n",
    "# import warnings filter\n",
    "from warnings import simplefilter\n",
    "# ignore all future warnings\n",
    "simplefilter(action='ignore', category=FutureWarning)"
   ]
  },
  {
   "cell_type": "code",
   "execution_count": 2,
   "metadata": {},
   "outputs": [],
   "source": [
    "df = pd.read_csv('nyc-rolling-sales-clean-1.csv', sep=';')"
   ]
  },
  {
   "cell_type": "code",
   "execution_count": 3,
   "metadata": {
    "scrolled": true
   },
   "outputs": [
    {
     "data": {
      "text/html": [
       "<div>\n",
       "<style scoped>\n",
       "    .dataframe tbody tr th:only-of-type {\n",
       "        vertical-align: middle;\n",
       "    }\n",
       "\n",
       "    .dataframe tbody tr th {\n",
       "        vertical-align: top;\n",
       "    }\n",
       "\n",
       "    .dataframe thead th {\n",
       "        text-align: right;\n",
       "    }\n",
       "</style>\n",
       "<table border=\"1\" class=\"dataframe\">\n",
       "  <thead>\n",
       "    <tr style=\"text-align: right;\">\n",
       "      <th></th>\n",
       "      <th>Land_sqf</th>\n",
       "      <th>Gross_sqf</th>\n",
       "      <th>Year_built</th>\n",
       "      <th>NBH_level</th>\n",
       "      <th>SALE_PRICE</th>\n",
       "      <th>YEARLY_RENT</th>\n",
       "    </tr>\n",
       "  </thead>\n",
       "  <tbody>\n",
       "    <tr>\n",
       "      <td>0</td>\n",
       "      <td>2400</td>\n",
       "      <td>1552</td>\n",
       "      <td>1930</td>\n",
       "      <td>2</td>\n",
       "      <td>220485</td>\n",
       "      <td>10900</td>\n",
       "    </tr>\n",
       "    <tr>\n",
       "      <td>1</td>\n",
       "      <td>2742</td>\n",
       "      <td>1207</td>\n",
       "      <td>1925</td>\n",
       "      <td>2</td>\n",
       "      <td>223372</td>\n",
       "      <td>8100</td>\n",
       "    </tr>\n",
       "    <tr>\n",
       "      <td>2</td>\n",
       "      <td>5610</td>\n",
       "      <td>1320</td>\n",
       "      <td>1910</td>\n",
       "      <td>5</td>\n",
       "      <td>362981</td>\n",
       "      <td>19000</td>\n",
       "    </tr>\n",
       "    <tr>\n",
       "      <td>3</td>\n",
       "      <td>1758</td>\n",
       "      <td>1537</td>\n",
       "      <td>1910</td>\n",
       "      <td>5</td>\n",
       "      <td>245135</td>\n",
       "      <td>9700</td>\n",
       "    </tr>\n",
       "    <tr>\n",
       "      <td>4</td>\n",
       "      <td>1317</td>\n",
       "      <td>1339</td>\n",
       "      <td>1920</td>\n",
       "      <td>4</td>\n",
       "      <td>216477</td>\n",
       "      <td>12800</td>\n",
       "    </tr>\n",
       "  </tbody>\n",
       "</table>\n",
       "</div>"
      ],
      "text/plain": [
       "   Land_sqf  Gross_sqf  Year_built  NBH_level  SALE_PRICE  YEARLY_RENT\n",
       "0      2400       1552        1930          2      220485        10900\n",
       "1      2742       1207        1925          2      223372         8100\n",
       "2      5610       1320        1910          5      362981        19000\n",
       "3      1758       1537        1910          5      245135         9700\n",
       "4      1317       1339        1920          4      216477        12800"
      ]
     },
     "execution_count": 3,
     "metadata": {},
     "output_type": "execute_result"
    }
   ],
   "source": [
    "df.head()"
   ]
  },
  {
   "cell_type": "code",
   "execution_count": 4,
   "metadata": {},
   "outputs": [
    {
     "data": {
      "text/html": [
       "<div>\n",
       "<style scoped>\n",
       "    .dataframe tbody tr th:only-of-type {\n",
       "        vertical-align: middle;\n",
       "    }\n",
       "\n",
       "    .dataframe tbody tr th {\n",
       "        vertical-align: top;\n",
       "    }\n",
       "\n",
       "    .dataframe thead th {\n",
       "        text-align: right;\n",
       "    }\n",
       "</style>\n",
       "<table border=\"1\" class=\"dataframe\">\n",
       "  <thead>\n",
       "    <tr style=\"text-align: right;\">\n",
       "      <th></th>\n",
       "      <th>Land_sqf</th>\n",
       "      <th>Gross_sqf</th>\n",
       "      <th>Year_built</th>\n",
       "      <th>NBH_level</th>\n",
       "      <th>SALE_PRICE</th>\n",
       "      <th>YEARLY_RENT</th>\n",
       "    </tr>\n",
       "  </thead>\n",
       "  <tbody>\n",
       "    <tr>\n",
       "      <td>Land_sqf</td>\n",
       "      <td>1.000000</td>\n",
       "      <td>0.383712</td>\n",
       "      <td>-0.001142</td>\n",
       "      <td>0.030384</td>\n",
       "      <td>0.693293</td>\n",
       "      <td>0.534428</td>\n",
       "    </tr>\n",
       "    <tr>\n",
       "      <td>Gross_sqf</td>\n",
       "      <td>0.383712</td>\n",
       "      <td>1.000000</td>\n",
       "      <td>-0.061774</td>\n",
       "      <td>-0.025912</td>\n",
       "      <td>0.782791</td>\n",
       "      <td>0.536878</td>\n",
       "    </tr>\n",
       "    <tr>\n",
       "      <td>Year_built</td>\n",
       "      <td>-0.001142</td>\n",
       "      <td>-0.061774</td>\n",
       "      <td>1.000000</td>\n",
       "      <td>0.030740</td>\n",
       "      <td>-0.004287</td>\n",
       "      <td>0.053032</td>\n",
       "    </tr>\n",
       "    <tr>\n",
       "      <td>NBH_level</td>\n",
       "      <td>0.030384</td>\n",
       "      <td>-0.025912</td>\n",
       "      <td>0.030740</td>\n",
       "      <td>1.000000</td>\n",
       "      <td>0.426108</td>\n",
       "      <td>0.682104</td>\n",
       "    </tr>\n",
       "    <tr>\n",
       "      <td>SALE_PRICE</td>\n",
       "      <td>0.693293</td>\n",
       "      <td>0.782791</td>\n",
       "      <td>-0.004287</td>\n",
       "      <td>0.426108</td>\n",
       "      <td>1.000000</td>\n",
       "      <td>0.864152</td>\n",
       "    </tr>\n",
       "    <tr>\n",
       "      <td>YEARLY_RENT</td>\n",
       "      <td>0.534428</td>\n",
       "      <td>0.536878</td>\n",
       "      <td>0.053032</td>\n",
       "      <td>0.682104</td>\n",
       "      <td>0.864152</td>\n",
       "      <td>1.000000</td>\n",
       "    </tr>\n",
       "  </tbody>\n",
       "</table>\n",
       "</div>"
      ],
      "text/plain": [
       "             Land_sqf  Gross_sqf  Year_built  NBH_level  SALE_PRICE  \\\n",
       "Land_sqf     1.000000   0.383712   -0.001142   0.030384    0.693293   \n",
       "Gross_sqf    0.383712   1.000000   -0.061774  -0.025912    0.782791   \n",
       "Year_built  -0.001142  -0.061774    1.000000   0.030740   -0.004287   \n",
       "NBH_level    0.030384  -0.025912    0.030740   1.000000    0.426108   \n",
       "SALE_PRICE   0.693293   0.782791   -0.004287   0.426108    1.000000   \n",
       "YEARLY_RENT  0.534428   0.536878    0.053032   0.682104    0.864152   \n",
       "\n",
       "             YEARLY_RENT  \n",
       "Land_sqf        0.534428  \n",
       "Gross_sqf       0.536878  \n",
       "Year_built      0.053032  \n",
       "NBH_level       0.682104  \n",
       "SALE_PRICE      0.864152  \n",
       "YEARLY_RENT     1.000000  "
      ]
     },
     "execution_count": 4,
     "metadata": {},
     "output_type": "execute_result"
    }
   ],
   "source": [
    "df.corr()"
   ]
  },
  {
   "cell_type": "code",
   "execution_count": 5,
   "metadata": {},
   "outputs": [
    {
     "data": {
      "text/html": [
       "<div>\n",
       "<style scoped>\n",
       "    .dataframe tbody tr th:only-of-type {\n",
       "        vertical-align: middle;\n",
       "    }\n",
       "\n",
       "    .dataframe tbody tr th {\n",
       "        vertical-align: top;\n",
       "    }\n",
       "\n",
       "    .dataframe thead th {\n",
       "        text-align: right;\n",
       "    }\n",
       "</style>\n",
       "<table border=\"1\" class=\"dataframe\">\n",
       "  <thead>\n",
       "    <tr style=\"text-align: right;\">\n",
       "      <th></th>\n",
       "      <th>Land_sqf</th>\n",
       "      <th>Gross_sqf</th>\n",
       "      <th>Year_built</th>\n",
       "      <th>NBH_level</th>\n",
       "      <th>SALE_PRICE</th>\n",
       "      <th>YEARLY_RENT</th>\n",
       "    </tr>\n",
       "  </thead>\n",
       "  <tbody>\n",
       "    <tr>\n",
       "      <td>count</td>\n",
       "      <td>291.000000</td>\n",
       "      <td>291.000000</td>\n",
       "      <td>291.000000</td>\n",
       "      <td>291.000000</td>\n",
       "      <td>291.000000</td>\n",
       "      <td>291.000000</td>\n",
       "    </tr>\n",
       "    <tr>\n",
       "      <td>mean</td>\n",
       "      <td>2645.676976</td>\n",
       "      <td>1639.773196</td>\n",
       "      <td>1938.378007</td>\n",
       "      <td>5.374570</td>\n",
       "      <td>287247.257732</td>\n",
       "      <td>18346.735395</td>\n",
       "    </tr>\n",
       "    <tr>\n",
       "      <td>std</td>\n",
       "      <td>1353.765596</td>\n",
       "      <td>810.233323</td>\n",
       "      <td>27.953929</td>\n",
       "      <td>2.892423</td>\n",
       "      <td>105082.283757</td>\n",
       "      <td>9435.111314</td>\n",
       "    </tr>\n",
       "    <tr>\n",
       "      <td>min</td>\n",
       "      <td>353.000000</td>\n",
       "      <td>450.000000</td>\n",
       "      <td>1901.000000</td>\n",
       "      <td>1.000000</td>\n",
       "      <td>78522.000000</td>\n",
       "      <td>4300.000000</td>\n",
       "    </tr>\n",
       "    <tr>\n",
       "      <td>25%</td>\n",
       "      <td>1900.000000</td>\n",
       "      <td>1114.000000</td>\n",
       "      <td>1920.000000</td>\n",
       "      <td>3.000000</td>\n",
       "      <td>216482.500000</td>\n",
       "      <td>10750.000000</td>\n",
       "    </tr>\n",
       "    <tr>\n",
       "      <td>50%</td>\n",
       "      <td>2446.000000</td>\n",
       "      <td>1400.000000</td>\n",
       "      <td>1930.000000</td>\n",
       "      <td>5.000000</td>\n",
       "      <td>281208.000000</td>\n",
       "      <td>17300.000000</td>\n",
       "    </tr>\n",
       "    <tr>\n",
       "      <td>75%</td>\n",
       "      <td>3000.000000</td>\n",
       "      <td>1960.000000</td>\n",
       "      <td>1950.000000</td>\n",
       "      <td>8.000000</td>\n",
       "      <td>332174.500000</td>\n",
       "      <td>24550.000000</td>\n",
       "    </tr>\n",
       "    <tr>\n",
       "      <td>max</td>\n",
       "      <td>14384.000000</td>\n",
       "      <td>5303.000000</td>\n",
       "      <td>2015.000000</td>\n",
       "      <td>10.000000</td>\n",
       "      <td>961748.000000</td>\n",
       "      <td>81400.000000</td>\n",
       "    </tr>\n",
       "  </tbody>\n",
       "</table>\n",
       "</div>"
      ],
      "text/plain": [
       "           Land_sqf    Gross_sqf   Year_built   NBH_level     SALE_PRICE  \\\n",
       "count    291.000000   291.000000   291.000000  291.000000     291.000000   \n",
       "mean    2645.676976  1639.773196  1938.378007    5.374570  287247.257732   \n",
       "std     1353.765596   810.233323    27.953929    2.892423  105082.283757   \n",
       "min      353.000000   450.000000  1901.000000    1.000000   78522.000000   \n",
       "25%     1900.000000  1114.000000  1920.000000    3.000000  216482.500000   \n",
       "50%     2446.000000  1400.000000  1930.000000    5.000000  281208.000000   \n",
       "75%     3000.000000  1960.000000  1950.000000    8.000000  332174.500000   \n",
       "max    14384.000000  5303.000000  2015.000000   10.000000  961748.000000   \n",
       "\n",
       "        YEARLY_RENT  \n",
       "count    291.000000  \n",
       "mean   18346.735395  \n",
       "std     9435.111314  \n",
       "min     4300.000000  \n",
       "25%    10750.000000  \n",
       "50%    17300.000000  \n",
       "75%    24550.000000  \n",
       "max    81400.000000  "
      ]
     },
     "execution_count": 5,
     "metadata": {},
     "output_type": "execute_result"
    }
   ],
   "source": [
    "df.describe()"
   ]
  },
  {
   "cell_type": "code",
   "execution_count": 6,
   "metadata": {},
   "outputs": [
    {
     "data": {
      "text/plain": [
       "Land_sqf       int64\n",
       "Gross_sqf      int64\n",
       "Year_built     int64\n",
       "NBH_level      int64\n",
       "SALE_PRICE     int64\n",
       "YEARLY_RENT    int64\n",
       "dtype: object"
      ]
     },
     "execution_count": 6,
     "metadata": {},
     "output_type": "execute_result"
    }
   ],
   "source": [
    "df.dtypes"
   ]
  },
  {
   "cell_type": "code",
   "execution_count": 7,
   "metadata": {},
   "outputs": [],
   "source": [
    "# Assigning first 4 columns to X, our dataset with the 4 independent variables or 'features'\n",
    "X = df.iloc[:,:4] "
   ]
  },
  {
   "cell_type": "code",
   "execution_count": 8,
   "metadata": {},
   "outputs": [
    {
     "data": {
      "text/html": [
       "<div>\n",
       "<style scoped>\n",
       "    .dataframe tbody tr th:only-of-type {\n",
       "        vertical-align: middle;\n",
       "    }\n",
       "\n",
       "    .dataframe tbody tr th {\n",
       "        vertical-align: top;\n",
       "    }\n",
       "\n",
       "    .dataframe thead th {\n",
       "        text-align: right;\n",
       "    }\n",
       "</style>\n",
       "<table border=\"1\" class=\"dataframe\">\n",
       "  <thead>\n",
       "    <tr style=\"text-align: right;\">\n",
       "      <th></th>\n",
       "      <th>Land_sqf</th>\n",
       "      <th>Gross_sqf</th>\n",
       "      <th>Year_built</th>\n",
       "      <th>NBH_level</th>\n",
       "    </tr>\n",
       "  </thead>\n",
       "  <tbody>\n",
       "    <tr>\n",
       "      <td>0</td>\n",
       "      <td>2400</td>\n",
       "      <td>1552</td>\n",
       "      <td>1930</td>\n",
       "      <td>2</td>\n",
       "    </tr>\n",
       "    <tr>\n",
       "      <td>1</td>\n",
       "      <td>2742</td>\n",
       "      <td>1207</td>\n",
       "      <td>1925</td>\n",
       "      <td>2</td>\n",
       "    </tr>\n",
       "    <tr>\n",
       "      <td>2</td>\n",
       "      <td>5610</td>\n",
       "      <td>1320</td>\n",
       "      <td>1910</td>\n",
       "      <td>5</td>\n",
       "    </tr>\n",
       "    <tr>\n",
       "      <td>3</td>\n",
       "      <td>1758</td>\n",
       "      <td>1537</td>\n",
       "      <td>1910</td>\n",
       "      <td>5</td>\n",
       "    </tr>\n",
       "    <tr>\n",
       "      <td>4</td>\n",
       "      <td>1317</td>\n",
       "      <td>1339</td>\n",
       "      <td>1920</td>\n",
       "      <td>4</td>\n",
       "    </tr>\n",
       "  </tbody>\n",
       "</table>\n",
       "</div>"
      ],
      "text/plain": [
       "   Land_sqf  Gross_sqf  Year_built  NBH_level\n",
       "0      2400       1552        1930          2\n",
       "1      2742       1207        1925          2\n",
       "2      5610       1320        1910          5\n",
       "3      1758       1537        1910          5\n",
       "4      1317       1339        1920          4"
      ]
     },
     "execution_count": 8,
     "metadata": {},
     "output_type": "execute_result"
    }
   ],
   "source": [
    "X.head()"
   ]
  },
  {
   "cell_type": "code",
   "execution_count": 9,
   "metadata": {},
   "outputs": [
    {
     "data": {
      "text/plain": [
       "(291, 4)"
      ]
     },
     "execution_count": 9,
     "metadata": {},
     "output_type": "execute_result"
    }
   ],
   "source": [
    "X.shape"
   ]
  },
  {
   "cell_type": "code",
   "execution_count": 10,
   "metadata": {},
   "outputs": [],
   "source": [
    "# Assigning last 4 columns to Y, with the 2 dependant variables or 'outputs' or 'targets'\n",
    "Y = df.iloc[:,4:]"
   ]
  },
  {
   "cell_type": "code",
   "execution_count": 11,
   "metadata": {},
   "outputs": [
    {
     "data": {
      "text/html": [
       "<div>\n",
       "<style scoped>\n",
       "    .dataframe tbody tr th:only-of-type {\n",
       "        vertical-align: middle;\n",
       "    }\n",
       "\n",
       "    .dataframe tbody tr th {\n",
       "        vertical-align: top;\n",
       "    }\n",
       "\n",
       "    .dataframe thead th {\n",
       "        text-align: right;\n",
       "    }\n",
       "</style>\n",
       "<table border=\"1\" class=\"dataframe\">\n",
       "  <thead>\n",
       "    <tr style=\"text-align: right;\">\n",
       "      <th></th>\n",
       "      <th>SALE_PRICE</th>\n",
       "      <th>YEARLY_RENT</th>\n",
       "    </tr>\n",
       "  </thead>\n",
       "  <tbody>\n",
       "    <tr>\n",
       "      <td>0</td>\n",
       "      <td>220485</td>\n",
       "      <td>10900</td>\n",
       "    </tr>\n",
       "    <tr>\n",
       "      <td>1</td>\n",
       "      <td>223372</td>\n",
       "      <td>8100</td>\n",
       "    </tr>\n",
       "    <tr>\n",
       "      <td>2</td>\n",
       "      <td>362981</td>\n",
       "      <td>19000</td>\n",
       "    </tr>\n",
       "    <tr>\n",
       "      <td>3</td>\n",
       "      <td>245135</td>\n",
       "      <td>9700</td>\n",
       "    </tr>\n",
       "    <tr>\n",
       "      <td>4</td>\n",
       "      <td>216477</td>\n",
       "      <td>12800</td>\n",
       "    </tr>\n",
       "  </tbody>\n",
       "</table>\n",
       "</div>"
      ],
      "text/plain": [
       "   SALE_PRICE  YEARLY_RENT\n",
       "0      220485        10900\n",
       "1      223372         8100\n",
       "2      362981        19000\n",
       "3      245135         9700\n",
       "4      216477        12800"
      ]
     },
     "execution_count": 11,
     "metadata": {},
     "output_type": "execute_result"
    }
   ],
   "source": [
    "Y.head()"
   ]
  },
  {
   "cell_type": "code",
   "execution_count": 12,
   "metadata": {},
   "outputs": [
    {
     "data": {
      "text/plain": [
       "(291, 2)"
      ]
     },
     "execution_count": 12,
     "metadata": {},
     "output_type": "execute_result"
    }
   ],
   "source": [
    "Y.shape"
   ]
  },
  {
   "cell_type": "code",
   "execution_count": 13,
   "metadata": {},
   "outputs": [],
   "source": [
    "# Split train and test\n",
    "X_train, X_test, Y_train, Y_test = train_test_split(X, Y, test_size=0.3,\n",
    "                                                    random_state=0)"
   ]
  },
  {
   "cell_type": "markdown",
   "metadata": {},
   "source": [
    "## Option 1:  Multioutput regression. More info [here](https://scikit-learn.org/stable/modules/multiclass.html#multioutput-regression): \n",
    "#### Fits one regressor per target but does not take into account correlations among targets."
   ]
  },
  {
   "cell_type": "code",
   "execution_count": 14,
   "metadata": {},
   "outputs": [],
   "source": [
    "from sklearn.multioutput import MultiOutputRegressor\n",
    "from sklearn.ensemble import GradientBoostingRegressor\n",
    "from sklearn.multioutput import RegressorChain"
   ]
  },
  {
   "cell_type": "markdown",
   "metadata": {},
   "source": [
    "### 1.1 Using  GradientBoostingRegressor"
   ]
  },
  {
   "cell_type": "code",
   "execution_count": 15,
   "metadata": {
    "scrolled": true
   },
   "outputs": [
    {
     "data": {
      "text/plain": [
       "MultiOutputRegressor(estimator=GradientBoostingRegressor(alpha=0.9,\n",
       "                                                         criterion='friedman_mse',\n",
       "                                                         init=None,\n",
       "                                                         learning_rate=0.1,\n",
       "                                                         loss='ls', max_depth=3,\n",
       "                                                         max_features=None,\n",
       "                                                         max_leaf_nodes=None,\n",
       "                                                         min_impurity_decrease=0.0,\n",
       "                                                         min_impurity_split=None,\n",
       "                                                         min_samples_leaf=1,\n",
       "                                                         min_samples_split=2,\n",
       "                                                         min_weight_fraction_leaf=0.0,\n",
       "                                                         n_estimators=100,\n",
       "                                                         n_iter_no_change=None,\n",
       "                                                         presort='auto',\n",
       "                                                         random_state=None,\n",
       "                                                         subsample=1.0,\n",
       "                                                         tol=0.0001,\n",
       "                                                         validation_fraction=0.1,\n",
       "                                                         verbose=0,\n",
       "                                                         warm_start=False),\n",
       "                     n_jobs=-1)"
      ]
     },
     "execution_count": 15,
     "metadata": {},
     "output_type": "execute_result"
    }
   ],
   "source": [
    "base_regr1 = GradientBoostingRegressor()  # this is the base regressor... we could later try with other types like RF,  linear, logistic, etc.\n",
    "# see also --> https://scikit-learn.org/stable/auto_examples/ensemble/plot_random_forest_regression_multioutput.html#sphx-glr-auto-examples-ensemble-plot-random-forest-regression-multioutput-py\n",
    "# Question: Do we need to normalize features before applying  GradientBoostingRegressor()???\n",
    "\n",
    "multi_output_regr = MultiOutputRegressor(base_regr1, n_jobs=-1)\n",
    "multi_output_regr.fit(X_train, Y_train)"
   ]
  },
  {
   "cell_type": "code",
   "execution_count": 16,
   "metadata": {
    "scrolled": true
   },
   "outputs": [
    {
     "name": "stdout",
     "output_type": "stream",
     "text": [
      "MultiOutputRegressor score = 0.8861270549042206\n"
     ]
    }
   ],
   "source": [
    "Y_pred_mor_gbr = multi_output_regr.predict(X_test) # 'mor' stands for MultiOutputRegressor and 'gbr' stand for  GradientBoostingRegressor\n",
    "score_mor = multi_output_regr.score(X_test, Y_test)\n",
    "print(\"MultiOutputRegressor score =\", score_mor)"
   ]
  },
  {
   "cell_type": "code",
   "execution_count": 17,
   "metadata": {},
   "outputs": [
    {
     "data": {
      "text/plain": [
       "array([[264506.85705085,  18218.79528001],\n",
       "       [339412.37220211,  18046.27183158],\n",
       "       [189783.22368717,   7658.35142692],\n",
       "       [255874.33393749,  20717.3343184 ],\n",
       "       [173536.57909594,   7980.07347728]])"
      ]
     },
     "execution_count": 17,
     "metadata": {},
     "output_type": "execute_result"
    }
   ],
   "source": [
    "Y_pred_mor_gbr[:5]  #first 5 vectors of our predictions"
   ]
  },
  {
   "cell_type": "code",
   "execution_count": 18,
   "metadata": {},
   "outputs": [
    {
     "name": "stdout",
     "output_type": "stream",
     "text": [
      "Mean squared error Y1= 841047081.2476592  --- R2 for Y1= 0.9190958942883389\n"
     ]
    }
   ],
   "source": [
    "mse1 = mean_squared_error(Y_test.iloc[:,0],Y_pred_mor_gbr[:,[0]])\n",
    "r2_score1 = r2_score(Y_test.iloc[:,0],Y_pred_mor_gbr[:,[0]])\n",
    "\n",
    "print(\"Mean squared error Y1=\", mse1, \" --- R2 for Y1=\",  r2_score1)"
   ]
  },
  {
   "cell_type": "code",
   "execution_count": 19,
   "metadata": {},
   "outputs": [
    {
     "name": "stdout",
     "output_type": "stream",
     "text": [
      "Mean squared error Y2= 13366905.815225935  --- R2 for Y2= 0.8531582155201022\n"
     ]
    }
   ],
   "source": [
    "mse2 = mean_squared_error(Y_test.iloc[:,1],Y_pred_mor_gbr[:,[1]])\n",
    "r2_score2 = r2_score(Y_test.iloc[:,1],Y_pred_mor_gbr[:,[1]])\n",
    "\n",
    "print(\"Mean squared error Y2=\", mse2, \" --- R2 for Y2=\",  r2_score2)\n"
   ]
  },
  {
   "cell_type": "code",
   "execution_count": 20,
   "metadata": {
    "scrolled": true
   },
   "outputs": [
    {
     "data": {
      "text/plain": [
       "[GradientBoostingRegressor(alpha=0.9, criterion='friedman_mse', init=None,\n",
       "                           learning_rate=0.1, loss='ls', max_depth=3,\n",
       "                           max_features=None, max_leaf_nodes=None,\n",
       "                           min_impurity_decrease=0.0, min_impurity_split=None,\n",
       "                           min_samples_leaf=1, min_samples_split=2,\n",
       "                           min_weight_fraction_leaf=0.0, n_estimators=100,\n",
       "                           n_iter_no_change=None, presort='auto',\n",
       "                           random_state=None, subsample=1.0, tol=0.0001,\n",
       "                           validation_fraction=0.1, verbose=0, warm_start=False),\n",
       " GradientBoostingRegressor(alpha=0.9, criterion='friedman_mse', init=None,\n",
       "                           learning_rate=0.1, loss='ls', max_depth=3,\n",
       "                           max_features=None, max_leaf_nodes=None,\n",
       "                           min_impurity_decrease=0.0, min_impurity_split=None,\n",
       "                           min_samples_leaf=1, min_samples_split=2,\n",
       "                           min_weight_fraction_leaf=0.0, n_estimators=100,\n",
       "                           n_iter_no_change=None, presort='auto',\n",
       "                           random_state=None, subsample=1.0, tol=0.0001,\n",
       "                           validation_fraction=0.1, verbose=0, warm_start=False)]"
      ]
     },
     "execution_count": 20,
     "metadata": {},
     "output_type": "execute_result"
    }
   ],
   "source": [
    "multi_output_regr.estimators_"
   ]
  },
  {
   "cell_type": "markdown",
   "metadata": {},
   "source": [
    "### 1.2 Trying with linear regression"
   ]
  },
  {
   "cell_type": "code",
   "execution_count": 21,
   "metadata": {},
   "outputs": [
    {
     "data": {
      "text/plain": [
       "MultiOutputRegressor(estimator=LinearRegression(copy_X=True, fit_intercept=True,\n",
       "                                                n_jobs=None, normalize=True),\n",
       "                     n_jobs=-1)"
      ]
     },
     "execution_count": 21,
     "metadata": {},
     "output_type": "execute_result"
    }
   ],
   "source": [
    "base_regr2 = linear_model.LinearRegression(normalize=True)  \n",
    "multi_output_regr = MultiOutputRegressor(base_regr2, n_jobs=-1)\n",
    "multi_output_regr.fit(X_train, Y_train)"
   ]
  },
  {
   "cell_type": "code",
   "execution_count": 22,
   "metadata": {},
   "outputs": [
    {
     "name": "stdout",
     "output_type": "stream",
     "text": [
      "MultiOutputRegressor score = 0.9324803590333748\n"
     ]
    }
   ],
   "source": [
    "Y_pred_mor_lnr = multi_output_regr.predict(X_test) # 'mor' stands for MultiOutputRegressor\n",
    "score_mor = multi_output_regr.score(X_test, Y_test)\n",
    "print(\"MultiOutputRegressor score =\", score_mor)"
   ]
  },
  {
   "cell_type": "code",
   "execution_count": 23,
   "metadata": {},
   "outputs": [
    {
     "name": "stdout",
     "output_type": "stream",
     "text": [
      "Coefficients:  [   33.86123835    82.57564302   122.93659312 15351.64651242]\n",
      "Intercept:  -256756.70324842847\n"
     ]
    }
   ],
   "source": [
    "# Printing coefficients ans interception for estimator 1\n",
    "print(\"Coefficients: \", multi_output_regr.estimators_[0].coef_)\n",
    "print(\"Intercept: \", multi_output_regr.estimators_[0].intercept_)"
   ]
  },
  {
   "cell_type": "code",
   "execution_count": 24,
   "metadata": {},
   "outputs": [
    {
     "name": "stdout",
     "output_type": "stream",
     "text": [
      "Coefficients:  [   2.51431302    4.90399986   24.01429436 2206.56466953]\n",
      "Intercept:  -54854.11316898424\n"
     ]
    }
   ],
   "source": [
    "# Printing coefficients ans interception for estimator 2\n",
    "print(\"Coefficients: \", multi_output_regr.estimators_[1].coef_)\n",
    "print(\"Intercept: \", multi_output_regr.estimators_[1].intercept_)"
   ]
  },
  {
   "cell_type": "code",
   "execution_count": 25,
   "metadata": {},
   "outputs": [
    {
     "data": {
      "text/html": [
       "<div>\n",
       "<style scoped>\n",
       "    .dataframe tbody tr th:only-of-type {\n",
       "        vertical-align: middle;\n",
       "    }\n",
       "\n",
       "    .dataframe tbody tr th {\n",
       "        vertical-align: top;\n",
       "    }\n",
       "\n",
       "    .dataframe thead th {\n",
       "        text-align: right;\n",
       "    }\n",
       "</style>\n",
       "<table border=\"1\" class=\"dataframe\">\n",
       "  <thead>\n",
       "    <tr style=\"text-align: right;\">\n",
       "      <th></th>\n",
       "      <th>SALE_PRICE</th>\n",
       "      <th>YEARLY_RENT</th>\n",
       "    </tr>\n",
       "  </thead>\n",
       "  <tbody>\n",
       "    <tr>\n",
       "      <td>226</td>\n",
       "      <td>260934</td>\n",
       "      <td>14600</td>\n",
       "    </tr>\n",
       "    <tr>\n",
       "      <td>283</td>\n",
       "      <td>293357</td>\n",
       "      <td>13000</td>\n",
       "    </tr>\n",
       "    <tr>\n",
       "      <td>209</td>\n",
       "      <td>196531</td>\n",
       "      <td>7700</td>\n",
       "    </tr>\n",
       "    <tr>\n",
       "      <td>171</td>\n",
       "      <td>256415</td>\n",
       "      <td>21600</td>\n",
       "    </tr>\n",
       "    <tr>\n",
       "      <td>118</td>\n",
       "      <td>143049</td>\n",
       "      <td>5900</td>\n",
       "    </tr>\n",
       "  </tbody>\n",
       "</table>\n",
       "</div>"
      ],
      "text/plain": [
       "     SALE_PRICE  YEARLY_RENT\n",
       "226      260934        14600\n",
       "283      293357        13000\n",
       "209      196531         7700\n",
       "171      256415        21600\n",
       "118      143049         5900"
      ]
     },
     "execution_count": 25,
     "metadata": {},
     "output_type": "execute_result"
    }
   ],
   "source": [
    "Y_test.head()"
   ]
  },
  {
   "cell_type": "code",
   "execution_count": 26,
   "metadata": {},
   "outputs": [
    {
     "name": "stdout",
     "output_type": "stream",
     "text": [
      "Mean squared error Y1= 308579730.1393211  --- R2 for Y1= 0.9703163263219077\n"
     ]
    }
   ],
   "source": [
    "#Checking  mean_squared_error and r2_score for output Y1\n",
    "\n",
    "mse1 = mean_squared_error(Y_test.iloc[:,0],Y_pred_mor_lnr[:,[0]])\n",
    "r2_score1 = r2_score(Y_test.iloc[:,0],Y_pred_mor_lnr[:,[0]])\n",
    "\n",
    "print(\"Mean squared error Y1=\", mse1, \" --- R2 for Y1=\",  r2_score1)"
   ]
  },
  {
   "cell_type": "code",
   "execution_count": 27,
   "metadata": {},
   "outputs": [
    {
     "name": "stdout",
     "output_type": "stream",
     "text": [
      "Mean squared error Y2= 9590447.961665342  --- R2 for Y2= 0.8946443917448419\n"
     ]
    }
   ],
   "source": [
    "#Checking  mean_squared_error and r2_score for output Y2\n",
    "\n",
    "mse2 = mean_squared_error(Y_test.iloc[:,1],Y_pred_mor_lnr[:,[1]])\n",
    "r2_score2 = r2_score(Y_test.iloc[:,1],Y_pred_mor_lnr[:,[1]])\n",
    "\n",
    "print(\"Mean squared error Y2=\", mse2, \" --- R2 for Y2=\",  r2_score2)\n"
   ]
  },
  {
   "cell_type": "markdown",
   "metadata": {},
   "source": [
    "## Option 2:  Regressor Chain. More info [here](https://scikit-learn.org/stable/modules/multiclass.html#regressor-chain): \n",
    "#### A way of combining a number of regressions into a single multi-target model that is capable of exploiting correlations among targets."
   ]
  },
  {
   "cell_type": "code",
   "execution_count": 28,
   "metadata": {},
   "outputs": [
    {
     "data": {
      "text/html": [
       "<div>\n",
       "<style scoped>\n",
       "    .dataframe tbody tr th:only-of-type {\n",
       "        vertical-align: middle;\n",
       "    }\n",
       "\n",
       "    .dataframe tbody tr th {\n",
       "        vertical-align: top;\n",
       "    }\n",
       "\n",
       "    .dataframe thead th {\n",
       "        text-align: right;\n",
       "    }\n",
       "</style>\n",
       "<table border=\"1\" class=\"dataframe\">\n",
       "  <thead>\n",
       "    <tr style=\"text-align: right;\">\n",
       "      <th></th>\n",
       "      <th>SALE_PRICE</th>\n",
       "      <th>YEARLY_RENT</th>\n",
       "    </tr>\n",
       "  </thead>\n",
       "  <tbody>\n",
       "    <tr>\n",
       "      <td>SALE_PRICE</td>\n",
       "      <td>1.000000</td>\n",
       "      <td>0.864152</td>\n",
       "    </tr>\n",
       "    <tr>\n",
       "      <td>YEARLY_RENT</td>\n",
       "      <td>0.864152</td>\n",
       "      <td>1.000000</td>\n",
       "    </tr>\n",
       "  </tbody>\n",
       "</table>\n",
       "</div>"
      ],
      "text/plain": [
       "             SALE_PRICE  YEARLY_RENT\n",
       "SALE_PRICE     1.000000     0.864152\n",
       "YEARLY_RENT    0.864152     1.000000"
      ]
     },
     "execution_count": 28,
     "metadata": {},
     "output_type": "execute_result"
    }
   ],
   "source": [
    "Y.corr()"
   ]
  },
  {
   "cell_type": "code",
   "execution_count": 29,
   "metadata": {},
   "outputs": [],
   "source": [
    "base_lr = linear_model.LinearRegression(normalize=True)  "
   ]
  },
  {
   "cell_type": "code",
   "execution_count": 30,
   "metadata": {},
   "outputs": [],
   "source": [
    "chains = [RegressorChain(base_lr, order='random', random_state=i)  \n",
    "          for i in range(2)]           #CLASSIFIER: Creates 2 classifiers, 2 chains in this case, with random order of Y dependants, and stores chains in arrays\n",
    "for chain in chains:\n",
    "    chain.fit(X_train, Y_train)         #FIT: fits for every chain\n",
    "\n",
    "Y_pred_chains = np.array([chain.predict(X_test) for chain in\n",
    "                          chains])      # PREDICT: Predicts X_test for every chain         \n",
    "\n"
   ]
  },
  {
   "cell_type": "code",
   "execution_count": 31,
   "metadata": {},
   "outputs": [],
   "source": [
    "chain_scores = [chain.score(X_test, Y_test)\n",
    "                        for chain in chains]  "
   ]
  },
  {
   "cell_type": "code",
   "execution_count": 32,
   "metadata": {},
   "outputs": [
    {
     "data": {
      "text/plain": [
       "[0.9696594555003062, 0.9696594555003062]"
      ]
     },
     "execution_count": 32,
     "metadata": {},
     "output_type": "execute_result"
    }
   ],
   "source": [
    "chain_scores"
   ]
  },
  {
   "cell_type": "markdown",
   "metadata": {},
   "source": [
    "**...both chains  have  the same score**, so the order of output prediction is not important in this case"
   ]
  },
  {
   "cell_type": "code",
   "execution_count": 33,
   "metadata": {},
   "outputs": [
    {
     "data": {
      "text/plain": [
       "array([[[241878.16664675,  18712.47818918],\n",
       "        [294905.36941289,  16223.56116792]],\n",
       "\n",
       "       [[241878.16664675,  18712.47818918],\n",
       "        [294905.36941289,  16223.56116792]]])"
      ]
     },
     "execution_count": 33,
     "metadata": {},
     "output_type": "execute_result"
    }
   ],
   "source": [
    "Y_pred_chains[:2,:2]"
   ]
  },
  {
   "cell_type": "markdown",
   "metadata": {},
   "source": [
    "----------------------------------------------"
   ]
  },
  {
   "cell_type": "markdown",
   "metadata": {},
   "source": [
    "#### BELOW: *(the same as above but generating chains manually instead of using a `for` loop)*"
   ]
  },
  {
   "cell_type": "code",
   "execution_count": 34,
   "metadata": {},
   "outputs": [],
   "source": [
    "base_lr = linear_model.LinearRegression(normalize=True)  "
   ]
  },
  {
   "cell_type": "code",
   "execution_count": 35,
   "metadata": {},
   "outputs": [
    {
     "name": "stdout",
     "output_type": "stream",
     "text": [
      "Mean squared error Y1= 308579730.1393215  --- R2 for Y1= 0.9703163263219077\n",
      "Mean squared error Y2= 9590447.961665332  --- R2 for Y2= 0.894644391744842\n"
     ]
    }
   ],
   "source": [
    "#chain 1 order [0,1] - first performs regression on sale price, then on rent\n",
    "\n",
    "chain1 = RegressorChain(base_lr, order=[0,1]) \n",
    "chain1.fit(X_train, Y_train)\n",
    "Y_pred_chain1 = chain1.predict(X_test)\n",
    "\n",
    "mse1 = mean_squared_error(Y_test.iloc[:,0],Y_pred_chain1[:,[0]])\n",
    "r2_score1 = r2_score(Y_test.iloc[:,0],Y_pred_chain1[:,[0]])\n",
    "print(\"Mean squared error Y1=\", mse1, \" --- R2 for Y1=\",  r2_score1)\n",
    "\n",
    "mse2 = mean_squared_error(Y_test.iloc[:,1],Y_pred_chain1[:,[1]])\n",
    "r2_score2 = r2_score(Y_test.iloc[:,1],Y_pred_chain1[:,[1]])\n",
    "\n",
    "print(\"Mean squared error Y2=\", mse2, \" --- R2 for Y2=\",  r2_score2)\n"
   ]
  },
  {
   "cell_type": "code",
   "execution_count": 36,
   "metadata": {},
   "outputs": [
    {
     "data": {
      "text/plain": [
       "array([[241878.16664675,  18712.47818918],\n",
       "       [294905.36941289,  16223.56116792],\n",
       "       [183879.07192249,   6061.44485257],\n",
       "       [269999.29715005,  19325.20076373],\n",
       "       [173542.06018593,   7726.00788735]])"
      ]
     },
     "execution_count": 36,
     "metadata": {},
     "output_type": "execute_result"
    }
   ],
   "source": [
    "Y_pred_chain1[:5]"
   ]
  },
  {
   "cell_type": "code",
   "execution_count": 37,
   "metadata": {},
   "outputs": [
    {
     "name": "stdout",
     "output_type": "stream",
     "text": [
      "Coefficients:  [   33.86123835    82.57564302   122.93659312 15351.64651242]\n",
      "Intercept:  -256756.7032484301\n"
     ]
    }
   ],
   "source": [
    "# Printing coefficients ans interception for estimator 1 : SALES PRICE\n",
    "\n",
    "print(\"Coefficients: \", chain1.estimators_[0].coef_)\n",
    "print(\"Intercept: \", chain1.estimators_[0].intercept_)"
   ]
  },
  {
   "cell_type": "code",
   "execution_count": 38,
   "metadata": {},
   "outputs": [
    {
     "name": "stdout",
     "output_type": "stream",
     "text": [
      "Coefficients:  [ 2.73120637e+00  5.43292640e+00  2.48017472e+01  2.30489746e+03\n",
      " -6.40535787e-03]\n",
      "Intercept:  -56498.73173941924\n"
     ]
    }
   ],
   "source": [
    "# Printing coefficients ans interception for estimator 2 : YEARLY RENT\n",
    "\n",
    "print(\"Coefficients: \", chain1.estimators_[1].coef_)\n",
    "print(\"Intercept: \", chain1.estimators_[1].intercept_)"
   ]
  },
  {
   "cell_type": "code",
   "execution_count": 39,
   "metadata": {},
   "outputs": [
    {
     "name": "stdout",
     "output_type": "stream",
     "text": [
      "Mean squared error Y1= 308579730.1393219  --- R2 for Y1= 0.9703163263219077\n",
      "Mean squared error Y2= 9590447.961665345  --- R2 for Y2= 0.8946443917448419\n"
     ]
    }
   ],
   "source": [
    "#chain 2 order [1,0] - first perfoms regression on rent price, then on sale price\n",
    "\n",
    "chain2 = RegressorChain(base_lr, order=[1,0]) \n",
    "chain2.fit(X_train, Y_train)\n",
    "Y_pred_chain2 = chain2.predict(X_test)\n",
    "\n",
    "mse1 = mean_squared_error(Y_test.iloc[:,0],Y_pred_chain2[:,[0]])\n",
    "r2_score1 = r2_score(Y_test.iloc[:,0],Y_pred_chain2[:,[0]])\n",
    "print(\"Mean squared error Y1=\", mse1, \" --- R2 for Y1=\",  r2_score1)\n",
    "\n",
    "mse2 = mean_squared_error(Y_test.iloc[:,1],Y_pred_chain2[:,[1]])\n",
    "r2_score2 = r2_score(Y_test.iloc[:,1],Y_pred_chain2[:,[1]])\n",
    "\n",
    "print(\"Mean squared error Y2=\", mse2, \" --- R2 for Y2=\",  r2_score2)"
   ]
  },
  {
   "cell_type": "code",
   "execution_count": 40,
   "metadata": {},
   "outputs": [
    {
     "name": "stdout",
     "output_type": "stream",
     "text": [
      "Coefficients:  [   2.51431302    4.90399986   24.01429436 2206.56466953]\n",
      "Intercept:  -54854.11316898441\n"
     ]
    }
   ],
   "source": [
    "# Printing coefficients ans interception for estimator 1 : YEARLY RENT\n",
    "print(\"Coefficients: \", chain2.estimators_[0].coef_)\n",
    "print(\"Intercept: \", chain2.estimators_[0].intercept_)"
   ]
  },
  {
   "cell_type": "code",
   "execution_count": 41,
   "metadata": {},
   "outputs": [
    {
     "name": "stdout",
     "output_type": "stream",
     "text": [
      "Coefficients:  [ 3.41955018e+01  8.32276015e+01  1.26129155e+02  1.56449965e+04\n",
      " -1.32944228e-01]\n",
      "Intercept:  -264049.24099248595\n"
     ]
    }
   ],
   "source": [
    "# Printing coefficients ans interception for estimator 2 : SALES PRICE\n",
    "print(\"Coefficients: \", chain2.estimators_[1].coef_)\n",
    "print(\"Intercept: \", chain2.estimators_[1].intercept_)"
   ]
  },
  {
   "cell_type": "code",
   "execution_count": null,
   "metadata": {},
   "outputs": [],
   "source": [
    "'''\n",
    "#chain 3 order random \n",
    "\n",
    "chain3 = RegressorChain(base_lr, order='random') \n",
    "chain3.fit(X_train, Y_train)\n",
    "Y_pred_chain3 = chain3.predict(X_test)\n",
    "\n",
    "mse1 = mean_squared_error(Y_test.iloc[:,0],Y_pred_chain2[:,[0]])\n",
    "r2_score1 = r2_score(Y_test.iloc[:,0],Y_pred_chain2[:,[0]])\n",
    "print(\"Mean squared error Y1=\", mse1, \" --- R2 for Y1=\",  r2_score1)\n",
    "\n",
    "mse2 = mean_squared_error(Y_test.iloc[:,1],Y_pred_chain2[:,[1]])\n",
    "r2_score2 = r2_score(Y_test.iloc[:,1],Y_pred_chain2[:,[1]])\n",
    "\n",
    "print(\"Mean squarederror Y2=\", mse2, \" --- R2 for Y2=\",  r2_score2)\n",
    "'''"
   ]
  },
  {
   "cell_type": "markdown",
   "metadata": {},
   "source": [
    "------------\n"
   ]
  },
  {
   "cell_type": "markdown",
   "metadata": {},
   "source": [
    "# Let's create some lineplots to visually see how predictions perform:\n",
    "\n",
    "**Chart for predictions of Y1 (SALE PRICE):**\n"
   ]
  },
  {
   "cell_type": "markdown",
   "metadata": {},
   "source": [
    "- **Y_pred_mor_gbr** = Predictions using MultipleOutputRegression with learner`GradientBoostingRegressor()`\n",
    "- **Y_pred_mor_lnr** = Predictions using MultipleOutputRegression with learner `LinearRegression`\n",
    "- **Y_pred_chain1** = Predictions using RegressorChain with learner `LinearRegression`"
   ]
  },
  {
   "cell_type": "code",
   "execution_count": 42,
   "metadata": {},
   "outputs": [],
   "source": [
    "# Creating dataframe of 4 columns of the first output Y1: 1) Y_test, 2) Y_pred_mor_gbr, 3) Y_pred_mor_lnr, 4) Y_pred_chain1 \n",
    "# (we use chain 1 as there is no substantial difference between chain1 and chain2)\n",
    "\n",
    "df_Y1 = pd.DataFrame({'Y_test':Y_test['SALE_PRICE']})\n",
    "df_Y1['Y_pred_mor_gbr'] = pd.DataFrame(Y_pred_mor_gbr[:,[0]]).values\n",
    "df_Y1['Y_pred_mor_lnr'] = pd.DataFrame(Y_pred_mor_lnr[:,[0]]).values\n",
    "df_Y1['Y_pred_chain1'] = pd.DataFrame(Y_pred_chain1[:,[0]]).values"
   ]
  },
  {
   "cell_type": "code",
   "execution_count": 43,
   "metadata": {},
   "outputs": [
    {
     "data": {
      "text/plain": [
       "(88, 4)"
      ]
     },
     "execution_count": 43,
     "metadata": {},
     "output_type": "execute_result"
    }
   ],
   "source": [
    "df_Y1.shape"
   ]
  },
  {
   "cell_type": "code",
   "execution_count": 44,
   "metadata": {},
   "outputs": [
    {
     "data": {
      "text/html": [
       "<div>\n",
       "<style scoped>\n",
       "    .dataframe tbody tr th:only-of-type {\n",
       "        vertical-align: middle;\n",
       "    }\n",
       "\n",
       "    .dataframe tbody tr th {\n",
       "        vertical-align: top;\n",
       "    }\n",
       "\n",
       "    .dataframe thead th {\n",
       "        text-align: right;\n",
       "    }\n",
       "</style>\n",
       "<table border=\"1\" class=\"dataframe\">\n",
       "  <thead>\n",
       "    <tr style=\"text-align: right;\">\n",
       "      <th></th>\n",
       "      <th>Y_test</th>\n",
       "      <th>Y_pred_mor_gbr</th>\n",
       "      <th>Y_pred_mor_lnr</th>\n",
       "      <th>Y_pred_chain1</th>\n",
       "    </tr>\n",
       "  </thead>\n",
       "  <tbody>\n",
       "    <tr>\n",
       "      <td>226</td>\n",
       "      <td>260934</td>\n",
       "      <td>264506.857051</td>\n",
       "      <td>241878.166647</td>\n",
       "      <td>241878.166647</td>\n",
       "    </tr>\n",
       "    <tr>\n",
       "      <td>283</td>\n",
       "      <td>293357</td>\n",
       "      <td>339412.372202</td>\n",
       "      <td>294905.369413</td>\n",
       "      <td>294905.369413</td>\n",
       "    </tr>\n",
       "    <tr>\n",
       "      <td>209</td>\n",
       "      <td>196531</td>\n",
       "      <td>189783.223687</td>\n",
       "      <td>183879.071922</td>\n",
       "      <td>183879.071922</td>\n",
       "    </tr>\n",
       "    <tr>\n",
       "      <td>171</td>\n",
       "      <td>256415</td>\n",
       "      <td>255874.333937</td>\n",
       "      <td>269999.297150</td>\n",
       "      <td>269999.297150</td>\n",
       "    </tr>\n",
       "    <tr>\n",
       "      <td>118</td>\n",
       "      <td>143049</td>\n",
       "      <td>173536.579096</td>\n",
       "      <td>173542.060186</td>\n",
       "      <td>173542.060186</td>\n",
       "    </tr>\n",
       "  </tbody>\n",
       "</table>\n",
       "</div>"
      ],
      "text/plain": [
       "     Y_test  Y_pred_mor_gbr  Y_pred_mor_lnr  Y_pred_chain1\n",
       "226  260934   264506.857051   241878.166647  241878.166647\n",
       "283  293357   339412.372202   294905.369413  294905.369413\n",
       "209  196531   189783.223687   183879.071922  183879.071922\n",
       "171  256415   255874.333937   269999.297150  269999.297150\n",
       "118  143049   173536.579096   173542.060186  173542.060186"
      ]
     },
     "execution_count": 44,
     "metadata": {},
     "output_type": "execute_result"
    }
   ],
   "source": [
    "df_Y1.head(5)"
   ]
  },
  {
   "cell_type": "code",
   "execution_count": 45,
   "metadata": {},
   "outputs": [],
   "source": [
    "df_Y1.sort_values(by='Y_test', ascending=True, inplace=True) #Sorting the dataset to better visualize results in a plot"
   ]
  },
  {
   "cell_type": "code",
   "execution_count": 46,
   "metadata": {
    "scrolled": true
   },
   "outputs": [
    {
     "data": {
      "text/plain": [
       "RangeIndex(start=0, stop=88, step=1)"
      ]
     },
     "execution_count": 46,
     "metadata": {},
     "output_type": "execute_result"
    }
   ],
   "source": [
    "df_Y1.reset_index(inplace=True, drop=True) #Resetting index\n",
    "df_Y1.index"
   ]
  },
  {
   "cell_type": "code",
   "execution_count": 47,
   "metadata": {},
   "outputs": [
    {
     "data": {
      "text/html": [
       "<div>\n",
       "<style scoped>\n",
       "    .dataframe tbody tr th:only-of-type {\n",
       "        vertical-align: middle;\n",
       "    }\n",
       "\n",
       "    .dataframe tbody tr th {\n",
       "        vertical-align: top;\n",
       "    }\n",
       "\n",
       "    .dataframe thead th {\n",
       "        text-align: right;\n",
       "    }\n",
       "</style>\n",
       "<table border=\"1\" class=\"dataframe\">\n",
       "  <thead>\n",
       "    <tr style=\"text-align: right;\">\n",
       "      <th></th>\n",
       "      <th>Y_test</th>\n",
       "      <th>Y_pred_mor_gbr</th>\n",
       "      <th>Y_pred_mor_lnr</th>\n",
       "      <th>Y_pred_chain1</th>\n",
       "    </tr>\n",
       "  </thead>\n",
       "  <tbody>\n",
       "    <tr>\n",
       "      <td>0</td>\n",
       "      <td>78522</td>\n",
       "      <td>137979.238129</td>\n",
       "      <td>90555.520408</td>\n",
       "      <td>90555.520408</td>\n",
       "    </tr>\n",
       "    <tr>\n",
       "      <td>1</td>\n",
       "      <td>104414</td>\n",
       "      <td>157738.410939</td>\n",
       "      <td>131433.028004</td>\n",
       "      <td>131433.028004</td>\n",
       "    </tr>\n",
       "    <tr>\n",
       "      <td>2</td>\n",
       "      <td>109103</td>\n",
       "      <td>170321.240093</td>\n",
       "      <td>137550.744833</td>\n",
       "      <td>137550.744833</td>\n",
       "    </tr>\n",
       "    <tr>\n",
       "      <td>3</td>\n",
       "      <td>143049</td>\n",
       "      <td>173536.579096</td>\n",
       "      <td>173542.060186</td>\n",
       "      <td>173542.060186</td>\n",
       "    </tr>\n",
       "    <tr>\n",
       "      <td>4</td>\n",
       "      <td>153305</td>\n",
       "      <td>158787.100174</td>\n",
       "      <td>128965.941491</td>\n",
       "      <td>128965.941491</td>\n",
       "    </tr>\n",
       "  </tbody>\n",
       "</table>\n",
       "</div>"
      ],
      "text/plain": [
       "   Y_test  Y_pred_mor_gbr  Y_pred_mor_lnr  Y_pred_chain1\n",
       "0   78522   137979.238129    90555.520408   90555.520408\n",
       "1  104414   157738.410939   131433.028004  131433.028004\n",
       "2  109103   170321.240093   137550.744833  137550.744833\n",
       "3  143049   173536.579096   173542.060186  173542.060186\n",
       "4  153305   158787.100174   128965.941491  128965.941491"
      ]
     },
     "execution_count": 47,
     "metadata": {},
     "output_type": "execute_result"
    }
   ],
   "source": [
    "df_Y1.head()"
   ]
  },
  {
   "cell_type": "code",
   "execution_count": 48,
   "metadata": {},
   "outputs": [
    {
     "data": {
      "image/png": "[encoded data removed]",
      "text/plain": [
       "<Figure size 864x576 with 1 Axes>"
      ]
     },
     "metadata": {
      "needs_background": "light"
     },
     "output_type": "display_data"
    }
   ],
   "source": [
    "plt.figure(figsize=(12,8))\n",
    "plt.plot(df_Y1.index, df_Y1.Y_test, label = \"Y_test\")\n",
    "plt.plot(df_Y1.index, df_Y1.Y_pred_mor_gbr, label = \"Y_pred_mor_gbr\")\n",
    "plt.plot(df_Y1.index, df_Y1.Y_pred_mor_lnr, label = \"Y_pred_mor_lnr\")\n",
    "plt.plot(df_Y1.index, df_Y1.Y_pred_chain1, label = \"Y_pred_chain1\")\n",
    "plt.xlabel('Observations')\n",
    "plt.ylabel('SALE PRICE')\n",
    "plt.title('SALES PRICE - Test Vs Predictions')\n",
    "# show a legend on the plot\n",
    "plt.legend()\n",
    "# Display a figure.\n",
    "plt.show()"
   ]
  },
  {
   "cell_type": "markdown",
   "metadata": {},
   "source": [
    "**Chart for predictions of Y2 (YEARLY_RENT):**"
   ]
  },
  {
   "cell_type": "code",
   "execution_count": 49,
   "metadata": {},
   "outputs": [
    {
     "data": {
      "text/plain": [
       "Index(['SALE_PRICE', 'YEARLY_RENT'], dtype='object')"
      ]
     },
     "execution_count": 49,
     "metadata": {},
     "output_type": "execute_result"
    }
   ],
   "source": [
    "Y_test.columns"
   ]
  },
  {
   "cell_type": "code",
   "execution_count": 50,
   "metadata": {},
   "outputs": [],
   "source": [
    "# Creating dataframe of 4 columns of the SECOND output Y1: 1) Y_test, 2) Y_pred_mor_gbr, 3) Y_pred_mor_lnr, 4) Y_pred_chain1 \n",
    "# (we use chain 1 as there is no substantial difference between chain1 and chain2)\n",
    "df_Y2 = pd.DataFrame({'Y_test':Y_test['YEARLY_RENT']})\n",
    "df_Y2['Y_pred_mor_gbr']= pd.DataFrame(Y_pred_mor_gbr[:,[1]]).values\n",
    "df_Y2['Y_pred_mor_lnr']= pd.DataFrame(Y_pred_mor_lnr[:,[1]]).values\n",
    "df_Y2['Y_pred_chain1']= pd.DataFrame(Y_pred_chain1[:,[1]]).values"
   ]
  },
  {
   "cell_type": "code",
   "execution_count": 51,
   "metadata": {},
   "outputs": [
    {
     "data": {
      "text/plain": [
       "(88, 4)"
      ]
     },
     "execution_count": 51,
     "metadata": {},
     "output_type": "execute_result"
    }
   ],
   "source": [
    "df_Y2.shape"
   ]
  },
  {
   "cell_type": "code",
   "execution_count": 52,
   "metadata": {},
   "outputs": [
    {
     "data": {
      "text/html": [
       "<div>\n",
       "<style scoped>\n",
       "    .dataframe tbody tr th:only-of-type {\n",
       "        vertical-align: middle;\n",
       "    }\n",
       "\n",
       "    .dataframe tbody tr th {\n",
       "        vertical-align: top;\n",
       "    }\n",
       "\n",
       "    .dataframe thead th {\n",
       "        text-align: right;\n",
       "    }\n",
       "</style>\n",
       "<table border=\"1\" class=\"dataframe\">\n",
       "  <thead>\n",
       "    <tr style=\"text-align: right;\">\n",
       "      <th></th>\n",
       "      <th>Y_test</th>\n",
       "      <th>Y_pred_mor_gbr</th>\n",
       "      <th>Y_pred_mor_lnr</th>\n",
       "      <th>Y_pred_chain1</th>\n",
       "    </tr>\n",
       "  </thead>\n",
       "  <tbody>\n",
       "    <tr>\n",
       "      <td>226</td>\n",
       "      <td>14600</td>\n",
       "      <td>18218.795280</td>\n",
       "      <td>18712.478189</td>\n",
       "      <td>18712.478189</td>\n",
       "    </tr>\n",
       "    <tr>\n",
       "      <td>283</td>\n",
       "      <td>13000</td>\n",
       "      <td>18046.271832</td>\n",
       "      <td>16223.561168</td>\n",
       "      <td>16223.561168</td>\n",
       "    </tr>\n",
       "    <tr>\n",
       "      <td>209</td>\n",
       "      <td>7700</td>\n",
       "      <td>7658.351427</td>\n",
       "      <td>6061.444853</td>\n",
       "      <td>6061.444853</td>\n",
       "    </tr>\n",
       "    <tr>\n",
       "      <td>171</td>\n",
       "      <td>21600</td>\n",
       "      <td>20717.334318</td>\n",
       "      <td>19325.200764</td>\n",
       "      <td>19325.200764</td>\n",
       "    </tr>\n",
       "    <tr>\n",
       "      <td>118</td>\n",
       "      <td>5900</td>\n",
       "      <td>7980.073477</td>\n",
       "      <td>7726.007887</td>\n",
       "      <td>7726.007887</td>\n",
       "    </tr>\n",
       "    <tr>\n",
       "      <td>273</td>\n",
       "      <td>19100</td>\n",
       "      <td>17785.584188</td>\n",
       "      <td>14464.577917</td>\n",
       "      <td>14464.577917</td>\n",
       "    </tr>\n",
       "    <tr>\n",
       "      <td>73</td>\n",
       "      <td>19900</td>\n",
       "      <td>17145.154227</td>\n",
       "      <td>16661.631254</td>\n",
       "      <td>16661.631254</td>\n",
       "    </tr>\n",
       "    <tr>\n",
       "      <td>157</td>\n",
       "      <td>25000</td>\n",
       "      <td>22252.881572</td>\n",
       "      <td>24805.803824</td>\n",
       "      <td>24805.803824</td>\n",
       "    </tr>\n",
       "    <tr>\n",
       "      <td>129</td>\n",
       "      <td>17300</td>\n",
       "      <td>12381.552896</td>\n",
       "      <td>13704.355298</td>\n",
       "      <td>13704.355298</td>\n",
       "    </tr>\n",
       "    <tr>\n",
       "      <td>45</td>\n",
       "      <td>9900</td>\n",
       "      <td>12778.190750</td>\n",
       "      <td>10826.713692</td>\n",
       "      <td>10826.713692</td>\n",
       "    </tr>\n",
       "  </tbody>\n",
       "</table>\n",
       "</div>"
      ],
      "text/plain": [
       "     Y_test  Y_pred_mor_gbr  Y_pred_mor_lnr  Y_pred_chain1\n",
       "226   14600    18218.795280    18712.478189   18712.478189\n",
       "283   13000    18046.271832    16223.561168   16223.561168\n",
       "209    7700     7658.351427     6061.444853    6061.444853\n",
       "171   21600    20717.334318    19325.200764   19325.200764\n",
       "118    5900     7980.073477     7726.007887    7726.007887\n",
       "273   19100    17785.584188    14464.577917   14464.577917\n",
       "73    19900    17145.154227    16661.631254   16661.631254\n",
       "157   25000    22252.881572    24805.803824   24805.803824\n",
       "129   17300    12381.552896    13704.355298   13704.355298\n",
       "45     9900    12778.190750    10826.713692   10826.713692"
      ]
     },
     "execution_count": 52,
     "metadata": {},
     "output_type": "execute_result"
    }
   ],
   "source": [
    "df_Y2.head(10)"
   ]
  },
  {
   "cell_type": "code",
   "execution_count": 53,
   "metadata": {},
   "outputs": [],
   "source": [
    "df_Y2.sort_values(by='Y_test', ascending=True, inplace=True)"
   ]
  },
  {
   "cell_type": "code",
   "execution_count": 54,
   "metadata": {
    "scrolled": true
   },
   "outputs": [],
   "source": [
    "df_Y2.reset_index(inplace=True, drop=True)"
   ]
  },
  {
   "cell_type": "code",
   "execution_count": 55,
   "metadata": {},
   "outputs": [
    {
     "data": {
      "text/html": [
       "<div>\n",
       "<style scoped>\n",
       "    .dataframe tbody tr th:only-of-type {\n",
       "        vertical-align: middle;\n",
       "    }\n",
       "\n",
       "    .dataframe tbody tr th {\n",
       "        vertical-align: top;\n",
       "    }\n",
       "\n",
       "    .dataframe thead th {\n",
       "        text-align: right;\n",
       "    }\n",
       "</style>\n",
       "<table border=\"1\" class=\"dataframe\">\n",
       "  <thead>\n",
       "    <tr style=\"text-align: right;\">\n",
       "      <th></th>\n",
       "      <th>Y_test</th>\n",
       "      <th>Y_pred_mor_gbr</th>\n",
       "      <th>Y_pred_mor_lnr</th>\n",
       "      <th>Y_pred_chain1</th>\n",
       "    </tr>\n",
       "  </thead>\n",
       "  <tbody>\n",
       "    <tr>\n",
       "      <td>0</td>\n",
       "      <td>4600</td>\n",
       "      <td>5452.240290</td>\n",
       "      <td>3327.859163</td>\n",
       "      <td>3327.859163</td>\n",
       "    </tr>\n",
       "    <tr>\n",
       "      <td>1</td>\n",
       "      <td>5400</td>\n",
       "      <td>7679.392535</td>\n",
       "      <td>4883.338527</td>\n",
       "      <td>4883.338527</td>\n",
       "    </tr>\n",
       "    <tr>\n",
       "      <td>2</td>\n",
       "      <td>5700</td>\n",
       "      <td>8196.320459</td>\n",
       "      <td>6581.466708</td>\n",
       "      <td>6581.466708</td>\n",
       "    </tr>\n",
       "    <tr>\n",
       "      <td>3</td>\n",
       "      <td>5900</td>\n",
       "      <td>7980.073477</td>\n",
       "      <td>7726.007887</td>\n",
       "      <td>7726.007887</td>\n",
       "    </tr>\n",
       "    <tr>\n",
       "      <td>4</td>\n",
       "      <td>6000</td>\n",
       "      <td>8256.715151</td>\n",
       "      <td>2067.388993</td>\n",
       "      <td>2067.388993</td>\n",
       "    </tr>\n",
       "  </tbody>\n",
       "</table>\n",
       "</div>"
      ],
      "text/plain": [
       "   Y_test  Y_pred_mor_gbr  Y_pred_mor_lnr  Y_pred_chain1\n",
       "0    4600     5452.240290     3327.859163    3327.859163\n",
       "1    5400     7679.392535     4883.338527    4883.338527\n",
       "2    5700     8196.320459     6581.466708    6581.466708\n",
       "3    5900     7980.073477     7726.007887    7726.007887\n",
       "4    6000     8256.715151     2067.388993    2067.388993"
      ]
     },
     "execution_count": 55,
     "metadata": {},
     "output_type": "execute_result"
    }
   ],
   "source": [
    "df_Y2.head()"
   ]
  },
  {
   "cell_type": "code",
   "execution_count": 56,
   "metadata": {},
   "outputs": [
    {
     "data": {
      "text/plain": [
       "RangeIndex(start=0, stop=88, step=1)"
      ]
     },
     "execution_count": 56,
     "metadata": {},
     "output_type": "execute_result"
    }
   ],
   "source": [
    "df_Y2.index"
   ]
  },
  {
   "cell_type": "code",
   "execution_count": 57,
   "metadata": {},
   "outputs": [
    {
     "data": {
      "image/png": "[encoded data removed]",
      "text/plain": [
       "<Figure size 864x576 with 1 Axes>"
      ]
     },
     "metadata": {
      "needs_background": "light"
     },
     "output_type": "display_data"
    }
   ],
   "source": [
    "plt.figure(figsize=(12,8))\n",
    "plt.plot(df_Y1.index, df_Y2.Y_test, label = \"Y_test\")\n",
    "plt.plot(df_Y1.index, df_Y2.Y_pred_mor_gbr, label = \"Y_pred_mor_gbr\")\n",
    "plt.plot(df_Y1.index, df_Y2.Y_pred_mor_lnr, label = \"Y_pred_mor_lnr\")\n",
    "plt.plot(df_Y1.index, df_Y2.Y_pred_chain1, label = \"Y_pred_chain1\")\n",
    "plt.xlabel('Observations')\n",
    "plt.ylabel('YEARLY_RENT')\n",
    "plt.title('YEARLY_RENT - Test Vs Predictions')\n",
    "# show a legend on the plot\n",
    "plt.legend()\n",
    "# Display a figure.\n",
    "plt.show()"
   ]
  },
  {
   "cell_type": "markdown",
   "metadata": {},
   "source": [
    "## MAIN CONLUSION: \n",
    "In this dataset, we note NO DIFFERENCES from predictions and coefficients using MultipleOutputRegression with learner `LinearRegression` and pedictions using RegressorChain with learner `LinearRegression`, except that the regressor chain model got a better `score` in overall, **0.969 compared to 0.932**.\n",
    "\n",
    "`LinearRegression`, in this particular case, is better learner than `GradientBoostingRegressor`."
   ]
  },
  {
   "cell_type": "markdown",
   "metadata": {},
   "source": [
    "-----------------\n"
   ]
  },
  {
   "cell_type": "markdown",
   "metadata": {},
   "source": [
    "--------------------"
   ]
  },
  {
   "cell_type": "markdown",
   "metadata": {},
   "source": [
    "### *PERSONAL PRACTICE....Simple linear regression on 1 output at a time*\n"
   ]
  },
  {
   "cell_type": "markdown",
   "metadata": {},
   "source": [
    "**Linear regression on first output Y1, SALE PRICE**"
   ]
  },
  {
   "cell_type": "code",
   "execution_count": 58,
   "metadata": {},
   "outputs": [],
   "source": [
    "Y_train_1 = Y_train.iloc[:,0]\n",
    "Y_test_1 = Y_test.iloc[:,0]\n",
    "regr = linear_model.LinearRegression(normalize=True)\n",
    "regr.fit(X_train, Y_train_1)\n",
    "Y_pred_1 = regr.predict(X_test)"
   ]
  },
  {
   "cell_type": "code",
   "execution_count": 59,
   "metadata": {},
   "outputs": [
    {
     "name": "stdout",
     "output_type": "stream",
     "text": [
      "Coefficients: \n",
      " [   33.86123835    82.57564302   122.93659312 15351.64651242]\n",
      "Intercept or constant: \n",
      " -256756.7032484301\n",
      "Mean squared error: 308579730.14\n",
      "Coefficient of determination: 0.97\n"
     ]
    }
   ],
   "source": [
    "print('Coefficients: \\n', regr.coef_)\n",
    "print('Intercept or constant: \\n', regr.intercept_)\n",
    "# The mean squared error\n",
    "print('Mean squared error: %.2f'\n",
    "      % mean_squared_error(Y_test_1, Y_pred_1))\n",
    "# The coefficient of determination: 1 is perfect prediction\n",
    "print('Coefficient of determination: %.2f'\n",
    "      % r2_score(Y_test_1, Y_pred_1))"
   ]
  },
  {
   "cell_type": "markdown",
   "metadata": {},
   "source": [
    "**Linear regression on second output Y2, YEARLY RENT**"
   ]
  },
  {
   "cell_type": "code",
   "execution_count": 60,
   "metadata": {},
   "outputs": [],
   "source": [
    "Y_train_2 = Y_train.iloc[:,1]\n",
    "Y_test_2 = Y_test.iloc[:,1]\n",
    "regr = linear_model.LinearRegression(normalize=True)\n",
    "regr.fit(X_train, Y_train_2)\n",
    "Y_pred_2 = regr.predict(X_test)"
   ]
  },
  {
   "cell_type": "code",
   "execution_count": 61,
   "metadata": {},
   "outputs": [
    {
     "name": "stdout",
     "output_type": "stream",
     "text": [
      "Coefficients: \n",
      " [   2.51431302    4.90399986   24.01429436 2206.56466953]\n",
      "Intercept or constant: \n",
      " -54854.11316898441\n",
      "Mean squared error: 9590447.96\n",
      "Coefficient of determination: 0.89\n"
     ]
    }
   ],
   "source": [
    "print('Coefficients: \\n', regr.coef_)\n",
    "print('Intercept or constant: \\n', regr.intercept_)\n",
    "# The mean squared error\n",
    "print('Mean squared error: %.2f'\n",
    "      % mean_squared_error(Y_test_2, Y_pred_2))\n",
    "# The coefficient of determination: 1 is perfect prediction\n",
    "print('Coefficient of determination: %.2f'\n",
    "      % r2_score(Y_test_2, Y_pred_2))"
   ]
  }
 ],
 "metadata": {
  "kernelspec": {
   "display_name": "Python 3",
   "language": "python",
   "name": "python3"
  },
  "language_info": {
   "codemirror_mode": {
    "name": "ipython",
    "version": 3
   },
   "file_extension": ".py",
   "mimetype": "text/x-python",
   "name": "python",
   "nbconvert_exporter": "python",
   "pygments_lexer": "ipython3",
   "version": "3.7.4"
  },
  "varInspector": {
   "cols": {
    "lenName": 16,
    "lenType": 16,
    "lenVar": 40
   },
   "kernels_config": {
    "python": {
     "delete_cmd_postfix": "",
     "delete_cmd_prefix": "del ",
     "library": "var_list.py",
     "varRefreshCmd": "print(var_dic_list())"
    },
    "r": {
     "delete_cmd_postfix": ") ",
     "delete_cmd_prefix": "rm(",
     "library": "var_list.r",
     "varRefreshCmd": "cat(var_dic_list()) "
    }
   },
   "position": {
    "height": "328.212px",
    "left": "1167px",
    "right": "20px",
    "top": "312.993px",
    "width": "314.757px"
   },
   "types_to_exclude": [
    "module",
    "function",
    "builtin_function_or_method",
    "instance",
    "_Feature"
   ],
   "window_display": false
  }
 },
 "nbformat": 4,
 "nbformat_minor": 2
}
